{
 "cells": [
  {
   "cell_type": "code",
   "execution_count": 12,
   "metadata": {},
   "outputs": [],
   "source": [
    "import sys, os\n",
    "sys.path.append(os.pardir)\n",
    "from dataset.mnist import load_mnist\n",
    "import numpy as np\n",
    "from PIL import Image\n",
    "import pickle\n",
    "from common.functions import sigmoid, softmax"
   ]
  },
  {
   "cell_type": "code",
   "execution_count": 13,
   "metadata": {},
   "outputs": [],
   "source": [
    "def img_show(img):\n",
    "    pil_img = Image.fromarray(np.uint8(img))\n",
    "    pil_img.show()"
   ]
  },
  {
   "cell_type": "code",
   "execution_count": 14,
   "metadata": {},
   "outputs": [],
   "source": [
    "(x_train, t_train), (x_test, t_test) = load_mnist(flatten=True, normalize=False)"
   ]
  },
  {
   "cell_type": "code",
   "execution_count": 15,
   "metadata": {},
   "outputs": [
    {
     "name": "stdout",
     "output_type": "stream",
     "text": [
      "5\n"
     ]
    }
   ],
   "source": [
    "img = x_train[0]\n",
    "label = t_train[0]\n",
    "print(label)"
   ]
  },
  {
   "cell_type": "code",
   "execution_count": 16,
   "metadata": {},
   "outputs": [
    {
     "name": "stdout",
     "output_type": "stream",
     "text": [
      "(784,)\n",
      "(28, 28)\n"
     ]
    }
   ],
   "source": [
    "print(img.shape)\n",
    "img = img.reshape(28, 28)\n",
    "print(img.shape)"
   ]
  },
  {
   "cell_type": "code",
   "execution_count": 17,
   "metadata": {},
   "outputs": [],
   "source": [
    "img_show(img)"
   ]
  },
  {
   "cell_type": "code",
   "execution_count": 18,
   "metadata": {},
   "outputs": [
    {
     "name": "stdout",
     "output_type": "stream",
     "text": [
      "(60000, 784)\n",
      "(60000,)\n",
      "(10000, 784)\n",
      "(10000,)\n"
     ]
    }
   ],
   "source": [
    "print(x_train.shape)\n",
    "print(t_train.shape)\n",
    "print(x_test.shape)\n",
    "print(t_test.shape)"
   ]
  },
  {
   "cell_type": "code",
   "execution_count": 19,
   "metadata": {},
   "outputs": [],
   "source": [
    "def get_data():\n",
    "    (x_train, t_train), (x_test, t_test) = load_mnist(normalize=True, flatten=True, one_hot_label=False)\n",
    "    \n",
    "    return x_test, t_test"
   ]
  },
  {
   "cell_type": "code",
   "execution_count": 20,
   "metadata": {},
   "outputs": [],
   "source": [
    "def init_network():\n",
    "    with open('sample_weight.pkl', 'rb') as f:\n",
    "        network = pickle.load(f)\n",
    "        \n",
    "    return network"
   ]
  },
  {
   "cell_type": "code",
   "execution_count": 21,
   "metadata": {},
   "outputs": [],
   "source": [
    "def predict(network, x):\n",
    "    W1, W2, W3 = network['W1'], network['W2'], network['W3']\n",
    "    b1, b2, b3 = network['b1'], network['b2'], network['b3']\n",
    "    \n",
    "    a1 = np.dot(x, W1) + b1\n",
    "    z1 = sigmoid(a1)\n",
    "    a2 = np.dot(z1, W2) + b2\n",
    "    z2 = sigmoid(a2)\n",
    "    a3 = np.dot(z2, W3) + b3\n",
    "    y = sigmoid(a3)\n",
    "    \n",
    "    return y"
   ]
  },
  {
   "cell_type": "code",
   "execution_count": 22,
   "metadata": {},
   "outputs": [
    {
     "name": "stdout",
     "output_type": "stream",
     "text": [
      "Accuracy : 0.9352\n"
     ]
    }
   ],
   "source": [
    "x, t = get_data()\n",
    "network = init_network()\n",
    "\n",
    "accuracy_cnt = 0\n",
    "for i in range(len(x)):\n",
    "    y = predict(network, x[i])\n",
    "    p = np.argmax(y)\n",
    "    if p==t[i]:\n",
    "        accuracy_cnt += 1\n",
    "        \n",
    "print(\"Accuracy : \" + str(float(accuracy_cnt) / len(x)))"
   ]
  },
  {
   "cell_type": "code",
   "execution_count": 23,
   "metadata": {},
   "outputs": [],
   "source": [
    "x,_ = get_data()"
   ]
  },
  {
   "cell_type": "code",
   "execution_count": 24,
   "metadata": {},
   "outputs": [],
   "source": [
    "network = init_network()"
   ]
  },
  {
   "cell_type": "code",
   "execution_count": 25,
   "metadata": {},
   "outputs": [],
   "source": [
    "W1, W2, W3 = network['W1'], network['W2'], network['W3']"
   ]
  },
  {
   "cell_type": "code",
   "execution_count": 26,
   "metadata": {},
   "outputs": [
    {
     "name": "stdout",
     "output_type": "stream",
     "text": [
      "(10000, 784)\n",
      "(784,)\n",
      "(784, 50)\n",
      "(50, 100)\n",
      "(100, 10)\n"
     ]
    }
   ],
   "source": [
    "print(x.shape)\n",
    "print(x[0].shape)\n",
    "print(W1.shape)\n",
    "print(W2.shape)\n",
    "print(W3.shape)"
   ]
  },
  {
   "cell_type": "code",
   "execution_count": 27,
   "metadata": {},
   "outputs": [],
   "source": [
    "x, t = get_data()\n",
    "network = init_network()"
   ]
  },
  {
   "cell_type": "code",
   "execution_count": 28,
   "metadata": {},
   "outputs": [],
   "source": [
    "batch_size = 100\n",
    "accuracy_cnt = 0"
   ]
  },
  {
   "cell_type": "code",
   "execution_count": 39,
   "metadata": {},
   "outputs": [
    {
     "name": "stdout",
     "output_type": "stream",
     "text": [
      "[71 14 82 90 85 23 91 70 61 99]\n",
      "[88 78 47 58 17 62 31 41 34 13]\n",
      "[96 65 85 16 38 53  1 62 60 81]\n",
      "[11  2 96 34 99 56 84 70 73 22]\n",
      "[40 16 23 93 84 12 63 10 66 81]\n",
      "[81 29  3  0 44 70 17 85 80 98]\n",
      "[56 63 43 86 97 94 23 51 31 62]\n",
      "[42 68 99 92 76 11 32  5  9 40]\n",
      "[71 89 92 19 38 69 60 25 64 33]\n",
      "[97 79 21 23  8 78 37 41 61 54]\n",
      "[84 37 49 66 57 41 85 71 18 63]\n",
      "[95 80 74 34 67 13 23 71 18 30]\n",
      "[ 3 38 10 78 30 58 93 44 25 55]\n",
      "[79 58 41 67 23 76 87 69 89  4]\n",
      "[57 34  7 79 61 71 91 97 43 52]\n",
      "[26 28 85 88 99 98 77 44 60 94]\n",
      "[23 67 56 83 36 77 62  6 75 97]\n",
      "[26 15 95 38  6 47 44 99 19 87]\n",
      "[70 97 90 45 72 70 54  5 59 69]\n",
      "[44 86 32 23 58 67 71 66 14 98]\n",
      "[87 41 55 45 46 78 62 36 50 54]\n",
      "[27 64 26 28 73  3 94 87 11 81]\n",
      "[17 87 48 30 23  7 31 20 11 59]\n",
      "[76 79 54 92 68 28 21 32 49 23]\n",
      "[92 11 46 31  1 87 86  7 51 77]\n",
      "[36 41 17 55 48 54 80 95 79 38]\n",
      "[41 12 69 18 75 53 20  5 14 37]\n",
      "[ 7 57 52 85  1 68 59  0 74 92]\n",
      "[42 68 64 93 19 55 31 44 95 92]\n",
      "[96 50  4 55 36 48 80 67 35  8]\n",
      "[13 14 71 45 76 28 18 79 72  6]\n",
      "[79 26 16 20 37 19 44 25 97 65]\n",
      "[15 30 93 17 49 20 73 96 79  0]\n",
      "[25 79 55  0 66 21 91  8 13 87]\n",
      "[45 54 82 49 31 62 88  0 99 77]\n",
      "[84 46 13 15 51 70 54 35 88  7]\n",
      "[24 48 68 42 76 19  2 92 33 66]\n",
      "[90 41 75 46 92 97 12 43  5 11]\n",
      "[83 15  2 12 19 14 86 54  7 72]\n",
      "[80 19 33 47 96 60 79 20 34 99]\n",
      "[33 36 66 97 24 54  8 73 20 95]\n",
      "[50 53 13 62 72  8 32 30 12 98]\n",
      "[82 64 47 34 17 33 43 95 18 13]\n",
      "[48 37 42 66 24 78 94 22  5  9]\n",
      "[48 50  2  6 68 72 46 59 86 17]\n",
      "[42 95 17 35 90 20 91 22 18 70]\n",
      "[11 51 36  0 52 45 80 12 29 44]\n",
      "[18  8 25 14 83 11 79 47 56  6]\n",
      "[62 59 70 94  3  9 75 65 45 84]\n",
      "[99 49 20 73 12 33  8 36 60 47]\n",
      "[87 81 45 28 82 98 12 71  3 80]\n",
      "[24 56 49 58  1  2 61  7 63 37]\n",
      "[59  8 72 12 84 95 86 97 31 20]\n",
      "[ 5 84 85 28 62 51 32 65 76 86]\n",
      "[30 86 36 72 74 88 67 37 89 91]\n",
      "[84 53  2 85  0 98 11 76 89 82]\n",
      "[59 46 92  6 64 24  9 40 48 71]\n",
      "[50 86 67  8 58 11 55 51 97 81]\n",
      "[65 59 20  4 16 33 34  8 46  5]\n",
      "[90 91 54 13 79 47 94 59 67 77]\n",
      "[97 58 14 96 86 67 78 89 90 55]\n",
      "[91 25 93 51 85 86 67 64 99 90]\n",
      "[87 22 66 85 84 36 61 53  9 30]\n",
      "[19 75 21 82 78 68 55  7 27 18]\n",
      "[29  7 12 13 33 15 63 41 57 36]\n",
      "[10 33 19  4 16 25  9 39 14 20]\n",
      "[ 2  1 16 76 96 20 85 40 29 82]\n",
      "[11 99 73 36  5 28 17  8  9 78]\n",
      "[35 19 28 75 90 60 24 58 39 88]\n",
      "[47  1 49 85 41  8 87 63 35 84]\n",
      "[72 19 22 24 92 67 42 98 34  8]\n",
      "[75 76 51 31  1 42 52 11 14 28]\n",
      "[89 70 81 22 51 64 95 96 87 98]\n",
      "[85 23 27 26 41 88 58 55 71 18]\n",
      "[52 11 97 70 88 75  9 67 50 64]\n",
      "[93  7  8 54 20 59 96 98  2 57]\n",
      "[55 26  4 74 69  2 84 14 63 16]\n",
      "[37 25 85 40 59 93 87 66 45 69]\n",
      "[35 81 15 29 79 19 16 52 78 92]\n",
      "[67 69 77 68 37 65 70 40 26 31]\n",
      "[56 99 31 26 54 34 18 52 27  1]\n",
      "[52 18  8 40 21 49 33 34 57 50]\n",
      "[21 19  8  6 20 24 11 48 66 50]\n",
      "[38 60 65 28 55 31 80 56 84 34]\n",
      "[68 49 50 71  0 73 54 80 37  4]\n",
      "[95 68 50 18  0 39 80 55 24 37]\n",
      "[19 59 83 60 75 86 68 98 99 80]\n",
      "[30 40 94 80 43 74 79 86 25 51]\n",
      "[ 8 62  0  1 79 55 52 91 72 99]\n",
      "[29 71 15 46 45 87 97 26 65 77]\n",
      "[80 90 48 83 64 65 86 87 55 94]\n",
      "[79 40 35 25  2 60 78 64 87 42]\n",
      "[20 91 46 61 32 98 51 79 13 50]\n",
      "[67 36 89 90 33 60  6 93  7 76]\n",
      "[98 38 80 45 53 81  3 86  2 32]\n",
      "[28 70 10 79 51 90 68 67 16 39]\n",
      "[47 57 35  4 83 16 65 90 67 76]\n",
      "[14 74  6 50 18  2 76 71 59  1]\n",
      "[ 1 98 20 21 22 30 15 99  7 25]\n",
      "[52 94 95 42 87 88 99  9 17 45]\n"
     ]
    },
    {
     "name": "stderr",
     "output_type": "stream",
     "text": [
      "<ipython-input-39-87f15378eab4>:6: DeprecationWarning: elementwise comparison failed; this will raise an error in the future.\n",
      "  accuracy_cnt += np.sum(p == t[i:i+batch_size])\n"
     ]
    }
   ],
   "source": [
    "for i in range(0, len(x), batch_size):\n",
    "    x_batch = x[i:i+batch_size]\n",
    "    y_batch = predict(network, x_batch)\n",
    "    p = np.argmax(y_batch, axis=0)\n",
    "    print(p)\n",
    "    accuracy_cnt += np.sum(p == t[i:i+batch_size])"
   ]
  },
  {
   "cell_type": "code",
   "execution_count": 32,
   "metadata": {},
   "outputs": [
    {
     "name": "stdout",
     "output_type": "stream",
     "text": [
      "Accuracy : 0.9352\n"
     ]
    }
   ],
   "source": [
    "print(\"Accuracy : \" + str(float(accuracy_cnt) / len(x)))"
   ]
  },
  {
   "cell_type": "code",
   "execution_count": null,
   "metadata": {},
   "outputs": [],
   "source": [
    "print(np.argmax(y_batch))"
   ]
  },
  {
   "cell_type": "code",
   "execution_count": 37,
   "metadata": {},
   "outputs": [
    {
     "name": "stdout",
     "output_type": "stream",
     "text": [
      "['9', '6', '5', '8', '3', '9', '0', '5', '7', '1', '6', '1', '0', '9', '3', '3', '4', '4', '0', '6', '2', '3', '4', '2', '3', '4', '6', '0', '0', '2', '0', '1', '4', '5', '6', '9', '8', '9', '0', '1', '2', '3', '7', '5', '6', '7', '8', '0', '1', '2', '3', '4', '5', '6', '7', '8', '9', '8', '7', '1', '3', '7', '3', '2', '8', '0', '7', '5', '9', '9', '0', '9', '1', '1', '5', '8', '8', '6', '3', '2', '1', '8', '3', '2', '6', '5', '6', '0', '0', '1', '0', '2', '3', '1', '9', '2', '1', '9', '6', '0']\n",
      "201\n"
     ]
    }
   ],
   "source": [
    "l='''9 6 5 8 3 9 0 5 7 1 6 1 0 9 3 3 4 4 0 6 2 3 4 2 3 4 6 0 0 2 0 1 4 5 6 9 8\n",
    " 9 0 1 2 3 7 5 6 7 8 0 1 2 3 4 5 6 7 8 9 8 7 1 3 7 3 2 8 0 7 5 9 9 0 9 1 1\n",
    " 5 8 8 6 3 2 1 8 3 2 6 5 6 0 0 1 0 2 3 1 9 2 1 9 6 0'''\n",
    "print(l.split())\n",
    "\n",
    "print(len(l))"
   ]
  },
  {
   "cell_type": "code",
   "execution_count": 48,
   "metadata": {},
   "outputs": [
    {
     "name": "stdout",
     "output_type": "stream",
     "text": [
      "['71', '14', '82', '90', '85', '23', '91', '70', '61', '99']\n",
      " \n",
      "29\n"
     ]
    }
   ],
   "source": [
    "l2 = '71 14 82 90 85 23 91 70 61 99'\n",
    "print(l2.split())\n",
    "\n",
    "print(len(l2))"
   ]
  },
  {
   "cell_type": "code",
   "execution_count": null,
   "metadata": {},
   "outputs": [],
   "source": []
  }
 ],
 "metadata": {
  "kernelspec": {
   "display_name": "Python 3",
   "language": "python",
   "name": "python3"
  },
  "language_info": {
   "codemirror_mode": {
    "name": "ipython",
    "version": 3
   },
   "file_extension": ".py",
   "mimetype": "text/x-python",
   "name": "python",
   "nbconvert_exporter": "python",
   "pygments_lexer": "ipython3",
   "version": "3.8.3"
  }
 },
 "nbformat": 4,
 "nbformat_minor": 4
}
