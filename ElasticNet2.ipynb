{
 "cells": [
  {
   "cell_type": "code",
   "execution_count": 2,
   "metadata": {},
   "outputs": [],
   "source": [
    "from sklearn.datasets import load_boston\n",
    "from sklearn.linear_model import Ridge, RidgeCV, Lasso, LassoCV, ElasticNet, ElasticNetCV\n",
    "from sklearn.metrics import mean_squared_error #MSE\n",
    "from sklearn.model_selection import train_test_split\n",
    "import matplotlib.pyplot as plt\n",
    "import numpy as np"
   ]
  },
  {
   "cell_type": "code",
   "execution_count": 3,
   "metadata": {},
   "outputs": [],
   "source": [
    "#Load boston house price data\n",
    "boston = load_boston()\n",
    "X, y = boston.data, boston.target\n",
    "X_train, X_test, y_train, y_test = train_test_split(X, y, test_size= 0.2, random_state=3)"
   ]
  },
  {
   "cell_type": "code",
   "execution_count": 4,
   "metadata": {},
   "outputs": [],
   "source": [
    "alphas = [0.0001, 0.001, 0.01, 0.1, 0.3, 0.5, 0.7, 1]"
   ]
  },
  {
   "cell_type": "code",
   "execution_count": 6,
   "metadata": {},
   "outputs": [
    {
     "name": "stdout",
     "output_type": "stream",
     "text": [
      "Alpha : 0.0001, R2 : 0.74, MSE : 21.89, RMSE : 4.68\n",
      "Alpha : 0.0010, R2 : 0.74, MSE : 21.89, RMSE : 4.68\n",
      "Alpha : 0.0100, R2 : 0.74, MSE : 21.89, RMSE : 4.68\n",
      "Alpha : 0.1000, R2 : 0.74, MSE : 21.90, RMSE : 4.68\n",
      "Alpha : 0.3000, R2 : 0.74, MSE : 21.92, RMSE : 4.68\n",
      "Alpha : 0.5000, R2 : 0.74, MSE : 21.95, RMSE : 4.69\n",
      "Alpha : 0.7000, R2 : 0.74, MSE : 21.99, RMSE : 4.69\n",
      "Alpha : 1.0000, R2 : 0.74, MSE : 22.04, RMSE : 4.70\n"
     ]
    }
   ],
   "source": [
    "#Ridge Regression\n",
    "#select alpha 0.0001 or 0.001 or 0.01 by checking R2, MSE, RMSE\n",
    "for a in alphas:\n",
    "    model = Ridge(alpha=a).fit(X, y)\n",
    "    score = model.score(X, y)\n",
    "    pred_y = model.predict(X)\n",
    "    mse = mean_squared_error(y, pred_y)\n",
    "    \n",
    "    print('Alpha : {0:.4f}, R2 : {1:.2f}, MSE : {2:.2f}, RMSE : {3:.2f}'\n",
    "         .format(a, score, mse, np.sqrt(mse)))"
   ]
  },
  {
   "cell_type": "code",
   "execution_count": 7,
   "metadata": {},
   "outputs": [
    {
     "name": "stdout",
     "output_type": "stream",
     "text": [
      "0.0001\n"
     ]
    }
   ],
   "source": [
    "#Run Ridge cross validation test to find the best alpha based on training test\n",
    "ridge_cv = RidgeCV(alphas=alphas, cv=5)\n",
    "model = ridge_cv.fit(X_train, y_train)\n",
    "print(model.alpha_)"
   ]
  },
  {
   "cell_type": "code",
   "execution_count": 11,
   "metadata": {},
   "outputs": [
    {
     "name": "stdout",
     "output_type": "stream",
     "text": [
      "Final Result: Ridge R2:0.795\n"
     ]
    }
   ],
   "source": [
    "#Calculate Ridge R2, MSE, RMSE from test data\n",
    "ridge = Ridge(alpha=0.0001).fit(X_train, y_train)\n",
    "ypred_ridge = ridge.predict(X_test)\n",
    "score_ridge = ridge.score(X_test, y_test)\n",
    "\n",
    "print(\"Final Result: Ridge R2:{0:.3f}\"\n",
    ".format(score_ridge))"
   ]
  },
  {
   "cell_type": "code",
   "execution_count": null,
   "metadata": {},
   "outputs": [],
   "source": []
  }
 ],
 "metadata": {
  "kernelspec": {
   "display_name": "Python 3",
   "language": "python",
   "name": "python3"
  },
  "language_info": {
   "codemirror_mode": {
    "name": "ipython",
    "version": 3
   },
   "file_extension": ".py",
   "mimetype": "text/x-python",
   "name": "python",
   "nbconvert_exporter": "python",
   "pygments_lexer": "ipython3",
   "version": "3.8.3"
  }
 },
 "nbformat": 4,
 "nbformat_minor": 4
}
